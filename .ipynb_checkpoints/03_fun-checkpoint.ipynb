{
 "cells": [
  {
   "cell_type": "code",
   "execution_count": 1,
   "id": "1554ae72",
   "metadata": {},
   "outputs": [],
   "source": [
    "import numpy as np\n",
    "np1 = np.array([0,1,2,3,4,5,6,7,8,9])"
   ]
  },
  {
   "cell_type": "code",
   "execution_count": 2,
   "id": "947a430a",
   "metadata": {},
   "outputs": [
    {
     "name": "stdout",
     "output_type": "stream",
     "text": [
      "[0.         1.         1.41421356 1.73205081 2.         2.23606798\n",
      " 2.44948974 2.64575131 2.82842712 3.        ]\n"
     ]
    }
   ],
   "source": [
    "# square root of each element\n",
    "print(np.sqrt(np1))"
   ]
  },
  {
   "cell_type": "code",
   "execution_count": 3,
   "id": "7d27355e",
   "metadata": {},
   "outputs": [
    {
     "name": "stdout",
     "output_type": "stream",
     "text": [
      "[1 5 6 2 3 4 0 2]\n"
     ]
    }
   ],
   "source": [
    "#absolute value\n",
    "np2 = np.array([-1,-5,-6,-2, 3, 4, 0, 2])\n",
    "print(np.abs(np2))"
   ]
  },
  {
   "cell_type": "code",
   "execution_count": 4,
   "id": "cee80900",
   "metadata": {},
   "outputs": [
    {
     "name": "stdout",
     "output_type": "stream",
     "text": [
      "[1.00000000e+00 2.71828183e+00 7.38905610e+00 2.00855369e+01\n",
      " 5.45981500e+01 1.48413159e+02 4.03428793e+02 1.09663316e+03\n",
      " 2.98095799e+03 8.10308393e+03]\n"
     ]
    }
   ],
   "source": [
    "# exponents/log\n",
    "print(np.exp(np1))"
   ]
  },
  {
   "cell_type": "code",
   "execution_count": 5,
   "id": "55a385b7",
   "metadata": {},
   "outputs": [
    {
     "name": "stdout",
     "output_type": "stream",
     "text": [
      "min:  0\n",
      "max:  9\n"
     ]
    }
   ],
   "source": [
    "# min/max\n",
    "print(\"min: \", np.min(np1))\n",
    "print(\"max: \", np.max(np1))"
   ]
  },
  {
   "cell_type": "code",
   "execution_count": 6,
   "id": "6bafbe44",
   "metadata": {},
   "outputs": [
    {
     "name": "stdout",
     "output_type": "stream",
     "text": [
      "[-1 -1 -1 -1  1  1  0  1]\n"
     ]
    }
   ],
   "source": [
    "# sign positive or negative\n",
    "print(np.sign(np2))"
   ]
  },
  {
   "cell_type": "code",
   "execution_count": null,
   "id": "8e6286aa",
   "metadata": {},
   "outputs": [],
   "source": []
  }
 ],
 "metadata": {
  "kernelspec": {
   "display_name": "Python 3 (ipykernel)",
   "language": "python",
   "name": "python3"
  },
  "language_info": {
   "codemirror_mode": {
    "name": "ipython",
    "version": 3
   },
   "file_extension": ".py",
   "mimetype": "text/x-python",
   "name": "python",
   "nbconvert_exporter": "python",
   "pygments_lexer": "ipython3",
   "version": "3.10.7"
  }
 },
 "nbformat": 4,
 "nbformat_minor": 5
}
