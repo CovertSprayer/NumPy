{
 "cells": [
  {
   "cell_type": "code",
   "execution_count": 1,
   "id": "6c0ada1f",
   "metadata": {},
   "outputs": [],
   "source": [
    "import numpy as np\n",
    "\n",
    "# np.sort()  Numerical\n",
    "np1 = np.array([6,7,4,9,0,2,1])"
   ]
  },
  {
   "cell_type": "code",
   "execution_count": 2,
   "id": "8b73ea0f",
   "metadata": {},
   "outputs": [
    {
     "name": "stdout",
     "output_type": "stream",
     "text": [
      "[6 7 4 9 0 2 1]\n",
      "[0 1 2 4 6 7 9]\n",
      "[6 7 4 9 0 2 1]\n"
     ]
    }
   ],
   "source": [
    "print(np1)\n",
    "print(np.sort(np1))\n",
    "print(np1)"
   ]
  },
  {
   "cell_type": "code",
   "execution_count": 3,
   "id": "a493696b",
   "metadata": {},
   "outputs": [
    {
     "name": "stdout",
     "output_type": "stream",
     "text": [
      "[[6 7 1 9]\n",
      " [8 3 5 0]]\n",
      "[[1 6 7 9]\n",
      " [0 3 5 8]]\n"
     ]
    }
   ],
   "source": [
    "# 2-d\n",
    "np2 = np.array([[6,7,1,9],[8,3,5,0]])\n",
    "print(np2)\n",
    "print(np.sort(np2))"
   ]
  },
  {
   "cell_type": "code",
   "execution_count": null,
   "id": "9d5e3abb",
   "metadata": {},
   "outputs": [],
   "source": []
  }
 ],
 "metadata": {
  "kernelspec": {
   "display_name": "Python 3 (ipykernel)",
   "language": "python",
   "name": "python3"
  },
  "language_info": {
   "codemirror_mode": {
    "name": "ipython",
    "version": 3
   },
   "file_extension": ".py",
   "mimetype": "text/x-python",
   "name": "python",
   "nbconvert_exporter": "python",
   "pygments_lexer": "ipython3",
   "version": "3.10.7"
  }
 },
 "nbformat": 4,
 "nbformat_minor": 5
}
