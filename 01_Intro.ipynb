{
 "cells": [
  {
   "cell_type": "code",
   "execution_count": 1,
   "id": "e2bd51b6",
   "metadata": {},
   "outputs": [],
   "source": [
    "import numpy as np"
   ]
  },
  {
   "cell_type": "code",
   "execution_count": 2,
   "id": "429c0e7e",
   "metadata": {},
   "outputs": [
    {
     "name": "stdout",
     "output_type": "stream",
     "text": [
      "(5,)\n"
     ]
    }
   ],
   "source": [
    "np1 = np.array([1,2,3,4,5])\n",
    "print(np1.shape)"
   ]
  },
  {
   "cell_type": "code",
   "execution_count": 3,
   "id": "3e1a5e2f",
   "metadata": {},
   "outputs": [
    {
     "name": "stdout",
     "output_type": "stream",
     "text": [
      "[0 1 2 3 4 5 6 7 8 9]\n"
     ]
    }
   ],
   "source": [
    "np2 = np.arange(10)\n",
    "print(np2)"
   ]
  },
  {
   "cell_type": "code",
   "execution_count": 4,
   "id": "21060206",
   "metadata": {},
   "outputs": [
    {
     "name": "stdout",
     "output_type": "stream",
     "text": [
      "[2 3 4 5 6 7 8 9]\n"
     ]
    }
   ],
   "source": [
    "np3 = np.arange(2,10)\n",
    "print(np3)"
   ]
  },
  {
   "cell_type": "code",
   "execution_count": 5,
   "id": "e17bb2f1",
   "metadata": {},
   "outputs": [
    {
     "name": "stdout",
     "output_type": "stream",
     "text": [
      "[2 5 8]\n"
     ]
    }
   ],
   "source": [
    "np4 = np.arange(2,10, 3)\n",
    "print(np4)"
   ]
  },
  {
   "cell_type": "code",
   "execution_count": 6,
   "id": "968a99f3",
   "metadata": {},
   "outputs": [
    {
     "name": "stdout",
     "output_type": "stream",
     "text": [
      "[0. 0. 0. 0. 0. 0. 0. 0. 0. 0.]\n"
     ]
    }
   ],
   "source": [
    "np5 = np.zeros(10)\n",
    "print(np5)"
   ]
  },
  {
   "cell_type": "code",
   "execution_count": 7,
   "id": "50ab1340",
   "metadata": {},
   "outputs": [
    {
     "name": "stdout",
     "output_type": "stream",
     "text": [
      "[[0. 0. 0. 0. 0. 0. 0. 0.]\n",
      " [0. 0. 0. 0. 0. 0. 0. 0.]\n",
      " [0. 0. 0. 0. 0. 0. 0. 0.]]\n"
     ]
    }
   ],
   "source": [
    "np6 = np.zeros((3,8))\n",
    "print(np6)"
   ]
  },
  {
   "cell_type": "code",
   "execution_count": 8,
   "id": "7f81efd3",
   "metadata": {},
   "outputs": [
    {
     "name": "stdout",
     "output_type": "stream",
     "text": [
      "[2 2 2 2 2 2 2]\n"
     ]
    }
   ],
   "source": [
    "np7 = np.full(7,2)\n",
    "print(np7)"
   ]
  },
  {
   "cell_type": "code",
   "execution_count": 9,
   "id": "5edff89f",
   "metadata": {},
   "outputs": [
    {
     "name": "stdout",
     "output_type": "stream",
     "text": [
      "[[2 2 2 2 2 2 2]\n",
      " [2 2 2 2 2 2 2]]\n"
     ]
    }
   ],
   "source": [
    "np8 = np.full((2,7),2)\n",
    "print(np8)"
   ]
  },
  {
   "cell_type": "code",
   "execution_count": 11,
   "id": "54861431",
   "metadata": {},
   "outputs": [
    {
     "name": "stdout",
     "output_type": "stream",
     "text": [
      "[1 2 3 4 5]\n"
     ]
    }
   ],
   "source": [
    "myList = [1,2,3,4,5]\n",
    "np9 = np.array(myList)\n",
    "print(np9)"
   ]
  },
  {
   "cell_type": "code",
   "execution_count": 12,
   "id": "2cdb87f5",
   "metadata": {},
   "outputs": [
    {
     "data": {
      "text/plain": [
       "1"
      ]
     },
     "execution_count": 12,
     "metadata": {},
     "output_type": "execute_result"
    }
   ],
   "source": [
    "np9[0]"
   ]
  }
 ],
 "metadata": {
  "kernelspec": {
   "display_name": "Python 3 (ipykernel)",
   "language": "python",
   "name": "python3"
  },
  "language_info": {
   "codemirror_mode": {
    "name": "ipython",
    "version": 3
   },
   "file_extension": ".py",
   "mimetype": "text/x-python",
   "name": "python",
   "nbconvert_exporter": "python",
   "pygments_lexer": "ipython3",
   "version": "3.10.7"
  }
 },
 "nbformat": 4,
 "nbformat_minor": 5
}
