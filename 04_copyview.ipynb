{
 "cells": [
  {
   "cell_type": "code",
   "execution_count": 1,
   "id": "8f4e153c",
   "metadata": {},
   "outputs": [],
   "source": [
    "import numpy as np\n",
    "np1 = np.array([0,1,2,3,4,5,6,7,8,9])"
   ]
  },
  {
   "cell_type": "code",
   "execution_count": 2,
   "id": "82d9e71a",
   "metadata": {},
   "outputs": [
    {
     "name": "stdout",
     "output_type": "stream",
     "text": [
      "original np1 [0 1 2 3 4 5 6 7 8 9]\n",
      "original np2 [0 1 2 3 4 5 6 7 8 9]\n"
     ]
    }
   ],
   "source": [
    "# create a view\n",
    "np2 = np1.view()\n",
    "print(f'original np1 {np1}')\n",
    "print(f'original np2 {np2}')"
   ]
  },
  {
   "cell_type": "code",
   "execution_count": 3,
   "id": "5aaf4663",
   "metadata": {},
   "outputs": [
    {
     "name": "stdout",
     "output_type": "stream",
     "text": [
      "original np1 [10  1  2  3  4  5  6  7  8  9]\n",
      "changed  np2 [10  1  2  3  4  5  6  7  8  9]\n"
     ]
    }
   ],
   "source": [
    "np2[0] = 10        # changing only np2 but it reflects changes in np1\n",
    "print(f'original np1 {np1}')\n",
    "print(f'changed  np2 {np2}')"
   ]
  },
  {
   "cell_type": "code",
   "execution_count": 4,
   "id": "8c4babe4",
   "metadata": {},
   "outputs": [
    {
     "name": "stdout",
     "output_type": "stream",
     "text": [
      "original np1 [10 10  2  3  4  5  6  7  8  9]\n",
      "changed  np2 [10 10  2  3  4  5  6  7  8  9]\n"
     ]
    }
   ],
   "source": [
    "np1[1] = 10        # changing only np1 but it reflects changes in np2\n",
    "print(f'original np1 {np1}')\n",
    "print(f'changed  np2 {np2}')"
   ]
  },
  {
   "cell_type": "code",
   "execution_count": 5,
   "id": "12fb0360",
   "metadata": {},
   "outputs": [
    {
     "name": "stdout",
     "output_type": "stream",
     "text": [
      "original np1 [10 10  2  3  4  5  6  7  8  9]\n",
      "original np3 [10 10  2  3  4  5  6  7  8  9]\n"
     ]
    }
   ],
   "source": [
    "# create a copy\n",
    "np3 = np1.copy()\n",
    "print(f'original np1 {np1}')\n",
    "print(f'original np3 {np3}')"
   ]
  },
  {
   "cell_type": "code",
   "execution_count": 6,
   "id": "df5f5dd5",
   "metadata": {},
   "outputs": [
    {
     "name": "stdout",
     "output_type": "stream",
     "text": [
      "original np1 [10 10  2  3  4  5  6  7  8  9]\n",
      "changed  np3 [50 10  2  3  4  5  6  7  8  9]\n"
     ]
    }
   ],
   "source": [
    "# changing only np3 but it doesn't reflect changes in np1 and vice verca\n",
    "np3[0] = 50\n",
    "print(f'original np1 {np1}')\n",
    "print(f'changed  np3 {np3}')"
   ]
  }
 ],
 "metadata": {
  "kernelspec": {
   "display_name": "Python 3 (ipykernel)",
   "language": "python",
   "name": "python3"
  },
  "language_info": {
   "codemirror_mode": {
    "name": "ipython",
    "version": 3
   },
   "file_extension": ".py",
   "mimetype": "text/x-python",
   "name": "python",
   "nbconvert_exporter": "python",
   "pygments_lexer": "ipython3",
   "version": "3.10.7"
  }
 },
 "nbformat": 4,
 "nbformat_minor": 5
}
