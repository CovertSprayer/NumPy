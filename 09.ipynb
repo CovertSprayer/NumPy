{
 "cells": [
  {
   "cell_type": "code",
   "execution_count": 1,
   "id": "12198361",
   "metadata": {},
   "outputs": [],
   "source": [
    "import numpy as np\n",
    "\n",
    "# Filtering Numpy Arrays With Boolean Index Lists\n",
    "np1 = np.array([1,2,3,4,5,6,7,8,9,10])"
   ]
  },
  {
   "cell_type": "code",
   "execution_count": 2,
   "id": "dd5a5a05",
   "metadata": {},
   "outputs": [
    {
     "name": "stdout",
     "output_type": "stream",
     "text": [
      "[1 3 4]\n"
     ]
    }
   ],
   "source": [
    "x = [True, False, True, True, False, False, False, False, False, False]\n",
    "print(np1[x])"
   ]
  },
  {
   "cell_type": "code",
   "execution_count": 3,
   "id": "27bf74f0",
   "metadata": {},
   "outputs": [
    {
     "name": "stdout",
     "output_type": "stream",
     "text": [
      "[False, True, False, True, False, True, False, True, False, True]\n"
     ]
    }
   ],
   "source": [
    "filtered = []\n",
    "for it in np1:\n",
    "    if(it&1 == 0):\n",
    "        filtered.append(True)\n",
    "    else:\n",
    "        filtered.append(False)\n",
    "print(filtered)"
   ]
  },
  {
   "cell_type": "code",
   "execution_count": 4,
   "id": "d6455744",
   "metadata": {},
   "outputs": [
    {
     "name": "stdout",
     "output_type": "stream",
     "text": [
      "[ 2  4  6  8 10]\n"
     ]
    }
   ],
   "source": [
    "print(np1[filtered])"
   ]
  },
  {
   "cell_type": "code",
   "execution_count": 6,
   "id": "064985fc",
   "metadata": {},
   "outputs": [
    {
     "name": "stdout",
     "output_type": "stream",
     "text": [
      "[ 1  2  3  4  5  6  7  8  9 10]\n",
      "[False  True False  True False  True False  True False  True]\n",
      "[ 2  4  6  8 10]\n"
     ]
    }
   ],
   "source": [
    "filtered2 = np1&1 == 0\n",
    "print(np1)\n",
    "print(filtered2)\n",
    "print(np1[filtered2])"
   ]
  },
  {
   "cell_type": "code",
   "execution_count": null,
   "id": "96cc639a",
   "metadata": {},
   "outputs": [],
   "source": []
  }
 ],
 "metadata": {
  "kernelspec": {
   "display_name": "Python 3 (ipykernel)",
   "language": "python",
   "name": "python3"
  },
  "language_info": {
   "codemirror_mode": {
    "name": "ipython",
    "version": 3
   },
   "file_extension": ".py",
   "mimetype": "text/x-python",
   "name": "python",
   "nbconvert_exporter": "python",
   "pygments_lexer": "ipython3",
   "version": "3.10.7"
  }
 },
 "nbformat": 4,
 "nbformat_minor": 5
}
