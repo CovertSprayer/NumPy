{
 "cells": [
  {
   "cell_type": "code",
   "execution_count": 1,
   "id": "ce939778",
   "metadata": {},
   "outputs": [
    {
     "name": "stdout",
     "output_type": "stream",
     "text": [
      "[0 1 2 3 4 5 6 7] (8,)\n"
     ]
    }
   ],
   "source": [
    "import numpy as np\n",
    "np1 = np.array([0,1,2,3,4,5,6,7])\n",
    "print(np1, np1.shape)"
   ]
  },
  {
   "cell_type": "code",
   "execution_count": 2,
   "id": "ac1beeba",
   "metadata": {},
   "outputs": [
    {
     "name": "stdout",
     "output_type": "stream",
     "text": [
      "[[1 2 3 4]\n",
      " [5 6 7 8]] (2, 4)\n"
     ]
    }
   ],
   "source": [
    "np2 = np.array([[1,2,3,4],[5,6,7,8]])\n",
    "print(np2, np2.shape)"
   ]
  },
  {
   "cell_type": "code",
   "execution_count": 3,
   "id": "18df09a8",
   "metadata": {},
   "outputs": [],
   "source": [
    "# reshape() takes 3 arguments (x,y,z) --> shape(x,y) and order(z)\n",
    "# shape --> (row, col), order --> (no of z-axis elements)"
   ]
  },
  {
   "cell_type": "code",
   "execution_count": 4,
   "id": "d12b3c5e",
   "metadata": {},
   "outputs": [
    {
     "name": "stdout",
     "output_type": "stream",
     "text": [
      "[[0 1 2 3]\n",
      " [4 5 6 7]] (2, 4)\n"
     ]
    }
   ],
   "source": [
    "# reshape to 2-D\n",
    "np3 = np1.reshape((2,4))\n",
    "print(np3, np3.shape)"
   ]
  },
  {
   "cell_type": "code",
   "execution_count": 5,
   "id": "e6078e78",
   "metadata": {},
   "outputs": [
    {
     "name": "stdout",
     "output_type": "stream",
     "text": [
      "[[[0 1]\n",
      "  [2 3]]\n",
      "\n",
      " [[4 5]\n",
      "  [6 7]]] (2, 2, 2)\n"
     ]
    }
   ],
   "source": [
    "# reshape to 3-D\n",
    "np4 = np1.reshape(2,2,2)\n",
    "print(np4, np4.shape)"
   ]
  },
  {
   "cell_type": "code",
   "execution_count": 7,
   "id": "ef7ec277",
   "metadata": {},
   "outputs": [
    {
     "name": "stdout",
     "output_type": "stream",
     "text": [
      "[0 1 2 3 4 5 6 7] (8,)\n"
     ]
    }
   ],
   "source": [
    "# flatten to 1-D\n",
    "np5 = np4.reshape(-1)\n",
    "print(np5, np5.shape)"
   ]
  }
 ],
 "metadata": {
  "kernelspec": {
   "display_name": "Python 3 (ipykernel)",
   "language": "python",
   "name": "python3"
  },
  "language_info": {
   "codemirror_mode": {
    "name": "ipython",
    "version": 3
   },
   "file_extension": ".py",
   "mimetype": "text/x-python",
   "name": "python",
   "nbconvert_exporter": "python",
   "pygments_lexer": "ipython3",
   "version": "3.10.7"
  }
 },
 "nbformat": 4,
 "nbformat_minor": 5
}
